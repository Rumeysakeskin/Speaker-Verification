{
 "cells": [
  {
   "cell_type": "code",
   "execution_count": 1,
   "id": "c6a549bf",
   "metadata": {},
   "outputs": [
    {
     "name": "stderr",
     "output_type": "stream",
     "text": [
      "C:\\Users\\developer\\Desktop\\uluc_nemo\\uluc_nemo\\lib\\site-packages\\malaya_boilerplate\\frozen_graph.py:35: UserWarning: Cannot import beam_search_ops from Tensorflow Addons, `deep_model` for stemmer will not available to use, make sure Tensorflow Addons version >= 0.12.0\n",
      "  'Cannot import beam_search_ops from Tensorflow Addons, `deep_model` for stemmer will not available to use, make sure Tensorflow Addons version >= 0.12.0'\n"
     ]
    }
   ],
   "source": [
    "import collections\n",
    "import contextlib\n",
    "import sys\n",
    "import wave\n",
    "import webrtcvad\n",
    "import numpy as np\n",
    "import pyaudio\n",
    "from time import monotonic\n",
    "import malaya_speech\n",
    "import numpy as np\n",
    "from malaya_speech import Pipeline"
   ]
  },
  {
   "cell_type": "code",
   "execution_count": null,
   "id": "fcb9e2a2",
   "metadata": {},
   "outputs": [],
   "source": [
    "def write_wave(path, audio, sample_rate):\n",
    "    \"\"\"Writes a .wav file.\n",
    "    Takes path, PCM audio data, and sample rate.\n",
    "    \"\"\"\n",
    "    with contextlib.closing(wave.open(path, 'wb')) as wf:\n",
    "        wf.setnchannels(1)\n",
    "        wf.setsampwidth(2)\n",
    "        wf.setframerate(sample_rate)\n",
    "        wf.writeframes(audio)\n",
    "\n",
    "    return audio\n",
    "\n",
    "def has_speech_activity(frames,number_of_frames = 25,percentage=0.85):\n",
    "\t# print(\"len_frames: \",len(frames))\n",
    "\tif len(frames) < number_of_frames:\n",
    "\t\treturn False\n",
    "\n",
    "\tnum_voiced = len([1 for frame in frames[-number_of_frames:] if vad.is_speech(frame, RATE)])\n",
    "\tprint(\"num_voiced: \",num_voiced,end='\\r')\n",
    "\treturn num_voiced > percentage * number_of_frames"
   ]
  },
  {
   "cell_type": "code",
   "execution_count": null,
   "id": "125c6ff8",
   "metadata": {},
   "outputs": [],
   "source": [
    "CHUNK = 1024\n",
    "FORMAT = pyaudio.paInt16\n",
    "CHANNELS = 1\n",
    "RATE = 16000\n",
    "\n",
    "VAD_ROBUSTNESS = 1\n",
    "vad = webrtcvad.Vad(VAD_ROBUSTNESS)\n",
    "\n",
    "p = pyaudio.PyAudio()\n",
    "\n",
    "stream = p.open(format=FORMAT,\n",
    "                channels=CHANNELS,\n",
    "                rate=RATE,\n",
    "                input=True,\n",
    "                frames_per_buffer=CHUNK)\n",
    "\n",
    "print(p.get_device_info_by_index(1))\n",
    "\n",
    "\n",
    "MIN_CONSECUTIVE_FRAMES = 25\n",
    "MAX_WAIT = 2\n",
    "\n",
    "\n",
    "for i in range(1):\n",
    "\tconsecutive_frames_reached = 0\n",
    "\tframes = []\n",
    "# \tint_frames = []\n",
    "\tlast_frames = []\n",
    "\thas_spoken = False\n",
    "\n",
    "\tsilent_time = None\n",
    "\n",
    "\n",
    "\twhile True:\n",
    "\t    raw = stream.read(CHUNK, exception_on_overflow=False)\n",
    "\t    _last_frame = np.fromstring(raw, dtype=np.int16)\n",
    "\t    \n",
    "\t    pcm = _last_frame.tostring()\n",
    "\n",
    "\t    if has_speech_activity(last_frames):\n",
    "\t        silent_time = None\n",
    "\t        print(\"Consecutive frames detected!!!\")\n",
    "\t        has_spoken = True\n",
    "\t    else:\n",
    "\t        if silent_time is None:\n",
    "\t            silent_time = monotonic()\n",
    "\t        elif monotonic() - silent_time > MAX_WAIT and has_spoken:\n",
    "\t            print(\"Voice command ended!!!\")\n",
    "\t            y = write_wave(f\"test_{i}.wav\",b''.join([f for f in frames]),RATE)\n",
    "\t            break\n",
    "\t    last_frames.append(_last_frame[0:480].tostring())\n",
    "\t    frames.append(pcm)\n",
    "# int_frames = np.frombuffer(last_frames, dtype=np.uint8, count=3)"
   ]
  },
  {
   "cell_type": "code",
   "execution_count": 3,
   "id": "c8600035",
   "metadata": {},
   "outputs": [
    {
     "data": {
      "text/plain": [
       "array([ 0.        ,  0.        ,  0.        , ..., -0.00189209,\n",
       "       -0.00183106, -0.00015259])"
      ]
     },
     "execution_count": 3,
     "metadata": {},
     "output_type": "execute_result"
    }
   ],
   "source": [
    "y, sr = malaya_speech.load('vad_test_file.wav')\n",
    "\n",
    "y"
   ]
  },
  {
   "cell_type": "code",
   "execution_count": 7,
   "id": "34036c60",
   "metadata": {},
   "outputs": [
    {
     "name": "stdout",
     "output_type": "stream",
     "text": [
      "Requirement already satisfied: webrtcvad in c:\\users\\developer\\anaconda3\\lib\\site-packages (2.0.10)\n",
      "^C\n"
     ]
    },
    {
     "ename": "ModuleNotFoundError",
     "evalue": "No module named 'networkx'",
     "output_type": "error",
     "traceback": [
      "\u001b[1;31m---------------------------------------------------------------------------\u001b[0m",
      "\u001b[1;31mModuleNotFoundError\u001b[0m                       Traceback (most recent call last)",
      "\u001b[1;32m<ipython-input-7-d24535fa1d15>\u001b[0m in \u001b[0;36m<module>\u001b[1;34m\u001b[0m\n\u001b[0;32m     20\u001b[0m                 \u001b[1;33m.\u001b[0m\u001b[0mflatten\u001b[0m\u001b[1;33m(\u001b[0m\u001b[1;33m)\u001b[0m\u001b[1;33m\u001b[0m\u001b[1;33m\u001b[0m\u001b[0m\n\u001b[0;32m     21\u001b[0m )\n\u001b[1;32m---> 22\u001b[1;33m \u001b[0mp\u001b[0m\u001b[1;33m.\u001b[0m\u001b[0mvisualize\u001b[0m\u001b[1;33m(\u001b[0m\u001b[1;33m)\u001b[0m\u001b[1;33m\u001b[0m\u001b[1;33m\u001b[0m\u001b[0m\n\u001b[0m\u001b[0;32m     23\u001b[0m \u001b[1;33m\u001b[0m\u001b[0m\n\u001b[0;32m     24\u001b[0m \u001b[0mresult\u001b[0m \u001b[1;33m=\u001b[0m \u001b[0mp\u001b[0m\u001b[1;33m.\u001b[0m\u001b[0memit\u001b[0m\u001b[1;33m(\u001b[0m\u001b[0mframes\u001b[0m\u001b[1;33m)\u001b[0m\u001b[1;33m\u001b[0m\u001b[1;33m\u001b[0m\u001b[0m\n",
      "\u001b[1;32m~\\Desktop\\uluc_nemo\\uluc_nemo\\lib\\site-packages\\malaya_speech\\pipeline\\__init__.py\u001b[0m in \u001b[0;36mvisualize\u001b[1;34m(self, filename, **kwargs)\u001b[0m\n\u001b[0;32m    182\u001b[0m         \u001b[1;32mfrom\u001b[0m \u001b[1;33m.\u001b[0m\u001b[0mgraph\u001b[0m \u001b[1;32mimport\u001b[0m \u001b[0mvisualize\u001b[0m\u001b[1;33m\u001b[0m\u001b[1;33m\u001b[0m\u001b[0m\n\u001b[0;32m    183\u001b[0m \u001b[1;33m\u001b[0m\u001b[0m\n\u001b[1;32m--> 184\u001b[1;33m         \u001b[1;32mreturn\u001b[0m \u001b[0mvisualize\u001b[0m\u001b[1;33m(\u001b[0m\u001b[0mself\u001b[0m\u001b[1;33m,\u001b[0m \u001b[0mfilename\u001b[0m\u001b[1;33m,\u001b[0m \u001b[1;33m**\u001b[0m\u001b[0mkwargs\u001b[0m\u001b[1;33m)\u001b[0m\u001b[1;33m\u001b[0m\u001b[1;33m\u001b[0m\u001b[0m\n\u001b[0m\u001b[0;32m    185\u001b[0m \u001b[1;33m\u001b[0m\u001b[0m\n\u001b[0;32m    186\u001b[0m     \u001b[1;32mdef\u001b[0m \u001b[0memit\u001b[0m\u001b[1;33m(\u001b[0m\u001b[0mself\u001b[0m\u001b[1;33m,\u001b[0m \u001b[0mx\u001b[0m\u001b[1;33m)\u001b[0m\u001b[1;33m:\u001b[0m\u001b[1;33m\u001b[0m\u001b[1;33m\u001b[0m\u001b[0m\n",
      "\u001b[1;32m~\\Desktop\\uluc_nemo\\uluc_nemo\\lib\\site-packages\\malaya_speech\\pipeline\\graph.py\u001b[0m in \u001b[0;36mvisualize\u001b[1;34m(node, filename, **kwargs)\u001b[0m\n\u001b[0;32m    209\u001b[0m     \u001b[0mstreams\u001b[0m\u001b[1;33m.\u001b[0m\u001b[0mgraph\u001b[0m\u001b[1;33m.\u001b[0m\u001b[0mreadable_graph\u001b[0m\u001b[1;33m\u001b[0m\u001b[1;33m\u001b[0m\u001b[0m\n\u001b[0;32m    210\u001b[0m     \"\"\"\n\u001b[1;32m--> 211\u001b[1;33m     \u001b[1;32mimport\u001b[0m \u001b[0mnetworkx\u001b[0m \u001b[1;32mas\u001b[0m \u001b[0mnx\u001b[0m\u001b[1;33m\u001b[0m\u001b[1;33m\u001b[0m\u001b[0m\n\u001b[0m\u001b[0;32m    212\u001b[0m \u001b[1;33m\u001b[0m\u001b[0m\n\u001b[0;32m    213\u001b[0m     \u001b[0mnx_g\u001b[0m \u001b[1;33m=\u001b[0m \u001b[0mnx\u001b[0m\u001b[1;33m.\u001b[0m\u001b[0mDiGraph\u001b[0m\u001b[1;33m(\u001b[0m\u001b[1;33m)\u001b[0m\u001b[1;33m\u001b[0m\u001b[1;33m\u001b[0m\u001b[0m\n",
      "\u001b[1;31mModuleNotFoundError\u001b[0m: No module named 'networkx'"
     ]
    }
   ],
   "source": [
    "!pip install webrtcvad\n",
    "!pip install malaya-speech\n",
    "RATE = 16000\n",
    "\n",
    "y_int = malaya_speech.astype.float_to_int(y)\n",
    "vad = malaya_speech.vad.webrtc(minimum_amplitude=int(np.quantile(np.abs(y_int), 0.2)))\n",
    "malaya_speech.vad.available_model()\n",
    "model_factor1 = malaya_speech.vad.deep_model(model='marblenet-factor1')\n",
    "frames_int = list(malaya_speech.utils.generator.frames(y_int, 30, RATE))\n",
    "\n",
    "\n",
    "frames = list(malaya_speech.utils.generator.frames(y, 30, RATE))\n",
    "\n",
    "frames_deep_factor1 = [(frame, model_factor1(frame)) for frame in frames]\n",
    "\n",
    "p = Pipeline()\n",
    "pipeline = (\n",
    "\tp.batching(5)\n",
    "\t\t.foreach_map(model_factor1.predict)\n",
    "\t\t.flatten()\n",
    ")\n",
    "p.visualize()\n",
    "\n",
    "result = p.emit(frames)\n",
    "result.keys()\n",
    "\n",
    "frames_deep_factor1_batch = [(frame, result['flatten'][no]) for no, frame in enumerate(frames)]\n",
    "len(frames_deep_factor1) == len(frames_deep_factor1_batch)\n",
    "\n",
    "malaya_speech.extra.visualization.visualize_vad(y, frames_deep_factor1, RATE)"
   ]
  },
  {
   "cell_type": "code",
   "execution_count": null,
   "id": "df789eea",
   "metadata": {},
   "outputs": [],
   "source": []
  },
  {
   "cell_type": "code",
   "execution_count": null,
   "id": "ce7b53d8",
   "metadata": {},
   "outputs": [
    {
     "name": "stderr",
     "output_type": "stream",
     "text": [
      "  3%|██▋                                                                             | 4.00/119 [01:21<35:01, 18.3s/MB]"
     ]
    }
   ],
   "source": []
  },
  {
   "cell_type": "code",
   "execution_count": null,
   "id": "fbf50072",
   "metadata": {},
   "outputs": [],
   "source": []
  }
 ],
 "metadata": {
  "kernelspec": {
   "display_name": "uluc_nemo",
   "language": "python",
   "name": "uluc_nemo"
  },
  "language_info": {
   "codemirror_mode": {
    "name": "ipython",
    "version": 3
   },
   "file_extension": ".py",
   "mimetype": "text/x-python",
   "name": "python",
   "nbconvert_exporter": "python",
   "pygments_lexer": "ipython3",
   "version": "3.7.9"
  }
 },
 "nbformat": 4,
 "nbformat_minor": 5
}
