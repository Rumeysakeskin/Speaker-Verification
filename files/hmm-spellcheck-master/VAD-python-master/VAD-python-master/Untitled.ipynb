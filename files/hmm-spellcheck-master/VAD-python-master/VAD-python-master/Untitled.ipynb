{
 "cells": [
  {
   "cell_type": "code",
   "execution_count": null,
   "id": "e290a946",
   "metadata": {},
   "outputs": [],
   "source": []
  }
 ],
 "metadata": {
  "kernelspec": {
   "display_name": "uluc_nemo",
   "language": "python",
   "name": "uluc_nemo"
  }
 },
 "nbformat": 4,
 "nbformat_minor": 5
}
