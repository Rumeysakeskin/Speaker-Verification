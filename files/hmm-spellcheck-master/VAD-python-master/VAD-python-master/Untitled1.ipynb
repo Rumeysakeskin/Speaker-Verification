{
 "cells": [
  {
   "cell_type": "code",
   "execution_count": null,
   "id": "aa687af0",
   "metadata": {},
   "outputs": [],
   "source": []
  }
 ],
 "metadata": {
  "kernelspec": {
   "display_name": "uluc_nemo",
   "language": "python",
   "name": "uluc_nemo"
  },
  "language_info": {
   "codemirror_mode": {
    "name": "ipython",
    "version": 3
   },
   "file_extension": ".py",
   "mimetype": "text/x-python",
   "name": "python",
   "nbconvert_exporter": "python",
   "pygments_lexer": "ipython3",
   "version": "3.7.9"
  }
 },
 "nbformat": 4,
 "nbformat_minor": 5
}
