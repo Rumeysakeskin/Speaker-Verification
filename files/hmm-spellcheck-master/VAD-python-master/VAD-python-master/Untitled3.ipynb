{
 "cells": [
  {
   "cell_type": "code",
   "execution_count": 5,
   "id": "b84956f9",
   "metadata": {},
   "outputs": [],
   "source": [
    "import collections\n",
    "import contextlib\n",
    "import sys\n",
    "import wave\n",
    "import webrtcvad\n",
    "import numpy as np\n",
    "import pyaudio\n",
    "from time import monotonic\n",
    "import malaya_speech\n",
    "import numpy as np\n",
    "from malaya_speech import Pipeline"
   ]
  },
  {
   "cell_type": "code",
   "execution_count": 2,
   "id": "c8e861ad",
   "metadata": {},
   "outputs": [],
   "source": [
    "def write_wave(path, audio, sample_rate):\n",
    "    \"\"\"Writes a .wav file.\n",
    "    Takes path, PCM audio data, and sample rate.\n",
    "    \"\"\"\n",
    "    with contextlib.closing(wave.open(path, 'wb')) as wf:\n",
    "        wf.setnchannels(1)\n",
    "        wf.setsampwidth(2)\n",
    "        wf.setframerate(sample_rate)\n",
    "        wf.writeframes(audio)\n",
    "\n",
    "    return audio"
   ]
  },
  {
   "cell_type": "code",
   "execution_count": 3,
   "id": "59c63317",
   "metadata": {},
   "outputs": [],
   "source": [
    "def has_speech_activity(frames,number_of_frames = 25,percentage=0.85):\n",
    "\t# print(\"len_frames: \",len(frames))\n",
    "\tif len(frames) < number_of_frames:\n",
    "\t\treturn False\n",
    "\n",
    "\tnum_voiced = len([1 for frame in frames[-number_of_frames:] if vad.is_speech(frame, RATE)])\n",
    "\tprint(\"num_voiced: \",num_voiced,end='\\r')\n",
    "\treturn num_voiced > percentage * number_of_frames"
   ]
  },
  {
   "cell_type": "code",
   "execution_count": 80,
   "id": "a8ff3b1f",
   "metadata": {},
   "outputs": [
    {
     "name": "stdout",
     "output_type": "stream",
     "text": [
      "{'index': 1, 'structVersion': 2, 'name': 'Microphone Array (Realtek(R) Au', 'hostApi': 0, 'maxInputChannels': 2, 'maxOutputChannels': 0, 'defaultLowInputLatency': 0.09, 'defaultLowOutputLatency': 0.09, 'defaultHighInputLatency': 0.18, 'defaultHighOutputLatency': 0.18, 'defaultSampleRate': 44100.0}\n"
     ]
    },
    {
     "name": "stderr",
     "output_type": "stream",
     "text": [
      "C:\\Users\\developer\\Desktop\\uluc_nemo\\uluc_nemo\\lib\\site-packages\\ipykernel_launcher.py:72: DeprecationWarning: The binary mode of fromstring is deprecated, as it behaves surprisingly on unicode inputs. Use frombuffer instead\n",
      "C:\\Users\\developer\\Desktop\\uluc_nemo\\uluc_nemo\\lib\\site-packages\\ipykernel_launcher.py:74: DeprecationWarning: tostring() is deprecated. Use tobytes() instead.\n",
      "C:\\Users\\developer\\Desktop\\uluc_nemo\\uluc_nemo\\lib\\site-packages\\ipykernel_launcher.py:87: DeprecationWarning: tostring() is deprecated. Use tobytes() instead.\n"
     ]
    },
    {
     "name": "stdout",
     "output_type": "stream",
     "text": [
      "num_voiced:  000\r"
     ]
    },
    {
     "ename": "KeyboardInterrupt",
     "evalue": "",
     "output_type": "error",
     "traceback": [
      "\u001b[1;31m---------------------------------------------------------------------------\u001b[0m",
      "\u001b[1;31mKeyboardInterrupt\u001b[0m                         Traceback (most recent call last)",
      "\u001b[1;32m<ipython-input-80-608baf7b3697>\u001b[0m in \u001b[0;36m<module>\u001b[1;34m\u001b[0m\n\u001b[0;32m     66\u001b[0m         \u001b[1;32mwhile\u001b[0m \u001b[1;32mTrue\u001b[0m\u001b[1;33m:\u001b[0m\u001b[1;33m\u001b[0m\u001b[1;33m\u001b[0m\u001b[0m\n\u001b[0;32m     67\u001b[0m \u001b[1;33m\u001b[0m\u001b[0m\n\u001b[1;32m---> 68\u001b[1;33m             \u001b[0mraw\u001b[0m \u001b[1;33m=\u001b[0m \u001b[0mstream\u001b[0m\u001b[1;33m.\u001b[0m\u001b[0mread\u001b[0m\u001b[1;33m(\u001b[0m\u001b[0mCHUNK\u001b[0m\u001b[1;33m,\u001b[0m \u001b[0mexception_on_overflow\u001b[0m\u001b[1;33m=\u001b[0m\u001b[1;32mFalse\u001b[0m\u001b[1;33m)\u001b[0m\u001b[1;33m\u001b[0m\u001b[1;33m\u001b[0m\u001b[0m\n\u001b[0m\u001b[0;32m     69\u001b[0m \u001b[1;31m#         with open('vad_test_file.wav', 'rb') as audio_file:\u001b[0m\u001b[1;33m\u001b[0m\u001b[1;33m\u001b[0m\u001b[1;33m\u001b[0m\u001b[0m\n\u001b[0;32m     70\u001b[0m \u001b[1;31m#             content = audio_file.read(BYTES_PER_SECOND)\u001b[0m\u001b[1;33m\u001b[0m\u001b[1;33m\u001b[0m\u001b[1;33m\u001b[0m\u001b[0m\n",
      "\u001b[1;32m~\\Desktop\\uluc_nemo\\uluc_nemo\\lib\\site-packages\\pyaudio.py\u001b[0m in \u001b[0;36mread\u001b[1;34m(self, num_frames, exception_on_overflow)\u001b[0m\n\u001b[0;32m    606\u001b[0m                           paCanNotReadFromAnOutputOnlyStream)\n\u001b[0;32m    607\u001b[0m \u001b[1;33m\u001b[0m\u001b[0m\n\u001b[1;32m--> 608\u001b[1;33m         \u001b[1;32mreturn\u001b[0m \u001b[0mpa\u001b[0m\u001b[1;33m.\u001b[0m\u001b[0mread_stream\u001b[0m\u001b[1;33m(\u001b[0m\u001b[0mself\u001b[0m\u001b[1;33m.\u001b[0m\u001b[0m_stream\u001b[0m\u001b[1;33m,\u001b[0m \u001b[0mnum_frames\u001b[0m\u001b[1;33m,\u001b[0m \u001b[0mexception_on_overflow\u001b[0m\u001b[1;33m)\u001b[0m\u001b[1;33m\u001b[0m\u001b[1;33m\u001b[0m\u001b[0m\n\u001b[0m\u001b[0;32m    609\u001b[0m \u001b[1;33m\u001b[0m\u001b[0m\n\u001b[0;32m    610\u001b[0m     \u001b[1;32mdef\u001b[0m \u001b[0mget_read_available\u001b[0m\u001b[1;33m(\u001b[0m\u001b[0mself\u001b[0m\u001b[1;33m)\u001b[0m\u001b[1;33m:\u001b[0m\u001b[1;33m\u001b[0m\u001b[1;33m\u001b[0m\u001b[0m\n",
      "\u001b[1;31mKeyboardInterrupt\u001b[0m: "
     ]
    }
   ],
   "source": [
    "CHUNK = 1024\n",
    "FORMAT = pyaudio.paInt16\n",
    "CHANNELS = 1\n",
    "RATE = 16000\n",
    "\n",
    "\n",
    "VAD_ROBUSTNESS = 1\n",
    "vad = webrtcvad.Vad(VAD_ROBUSTNESS)\n",
    "\n",
    "p = pyaudio.PyAudio()\n",
    "\n",
    "stream = p.open(format=FORMAT,\n",
    "                channels=CHANNELS,\n",
    "                rate=RATE,\n",
    "                input=True,\n",
    "                frames_per_buffer=CHUNK)\n",
    "\n",
    "print(p.get_device_info_by_index(1))\n",
    "\n",
    "\n",
    "def pcm2float(sig, dtype='float32'):\n",
    "    \"\"\"Convert PCM signal to floating point with a range from -1 to 1.\n",
    "    Use dtype='float32' for single precision.\n",
    "    Parameters\n",
    "    ----------\n",
    "    sig : array_like\n",
    "        Input array, must have integral type.\n",
    "    dtype : data type, optional\n",
    "        Desired (floating point) data type.\n",
    "    Returns\n",
    "    -------\n",
    "    numpy.ndarray\n",
    "        Normalized floating point data.\n",
    "    See Also\n",
    "    --------\n",
    "    float2pcm, dtype\n",
    "    \"\"\"\n",
    "    sig = np.asarray(sig)\n",
    "    if sig.dtype.kind not in 'iu':\n",
    "        raise TypeError(\"'sig' must be an array of integers\")\n",
    "    dtype = np.dtype(dtype)\n",
    "    if dtype.kind != 'f':\n",
    "        raise TypeError(\"'dtype' must be a floating point type\")\n",
    "\n",
    "    i = np.iinfo(sig.dtype)\n",
    "    abs_max = 2 ** (i.bits - 1)\n",
    "    offset = i.min + abs_max\n",
    "    return (sig.astype(dtype) - offset) / abs_max\n",
    "\n",
    "\n",
    "\n",
    "MIN_CONSECUTIVE_FRAMES = 25\n",
    "MAX_WAIT = 2\n",
    "\n",
    "\n",
    "for i in range(1):\n",
    "\tconsecutive_frames_reached = 0\n",
    "\tframes = []\n",
    "# \tint_frames = []\n",
    "\tlast_frames = []\n",
    "\thas_spoken = False\n",
    "\n",
    "\tsilent_time = None\n",
    "\n",
    "\n",
    "\twhile True:\n",
    "        \n",
    "\t    raw = stream.read(CHUNK, exception_on_overflow=False)\n",
    "#         with open('vad_test_file.wav', 'rb') as audio_file:\n",
    "#             content = audio_file.read(BYTES_PER_SECOND)\n",
    "        \n",
    "\t    _last_frame = np.fromstring(raw, dtype=np.int16)\n",
    "\t    \n",
    "\t    pcm = _last_frame.tostring()\n",
    "\n",
    "\t    if has_speech_activity(last_frames):\n",
    "\t        silent_time = None\n",
    "\t        print(\"Consecutive frames detected!!!\")\n",
    "\t        has_spoken = True\n",
    "\t    else:\n",
    "\t        if silent_time is None:\n",
    "\t            silent_time = monotonic()\n",
    "\t        elif monotonic() - silent_time > MAX_WAIT and has_spoken:\n",
    "\t            print(\"Voice command ended!!!\")\n",
    "\t            y = write_wave(f\"test_{i}.wav\",b''.join([f for f in frames]),RATE)\n",
    "\t            break\n",
    "\t    last_frames.append(_last_frame[0:480].tostring())\n",
    "\t    frames.append(pcm)\n",
    "        \n",
    "int_frames = pcm2float(np.frombuffer(raw, dtype=np.int16), dtype='float32')\n",
    "\n",
    "y_int = malaya_speech.astype.float_to_int(int_frames)\n",
    "# vad = malaya_speech.vad.webrtc(minimum_amplitude=int(np.quantile(np.abs(y_int), 0.2)))\n",
    "malaya_speech.vad.available_model()\n",
    "model_factor1 = malaya_speech.vad.deep_model(model='marblenet-factor1')\n",
    "frames_int = list(malaya_speech.utils.generator.frames(y_int, 30, RATE))\n",
    "\n",
    "\n",
    "frames = list(malaya_speech.utils.generator.frames(int_frames, 30, RATE))\n",
    "\n",
    "frames_deep_factor1 = [(frame, model_factor1(frame)) for frame in frames]\n"
   ]
  },
  {
   "cell_type": "code",
   "execution_count": 58,
   "id": "35d1f6a4",
   "metadata": {},
   "outputs": [
    {
     "data": {
      "text/plain": [
       "array([ 3.3569336e-04,  2.4414062e-04, -7.6293945e-04, ...,\n",
       "        5.1879883e-04,  3.6621094e-04, -3.0517578e-05], dtype=float32)"
      ]
     },
     "execution_count": 58,
     "metadata": {},
     "output_type": "execute_result"
    }
   ],
   "source": [
    "int_frames"
   ]
  },
  {
   "cell_type": "code",
   "execution_count": 5,
   "id": "61bcde18",
   "metadata": {},
   "outputs": [
    {
     "ename": "UFuncTypeError",
     "evalue": "ufunc 'absolute' did not contain a loop with signature matching types dtype('S960') -> dtype('S960')",
     "output_type": "error",
     "traceback": [
      "\u001b[1;31m---------------------------------------------------------------------------\u001b[0m",
      "\u001b[1;31mUFuncTypeError\u001b[0m                            Traceback (most recent call last)",
      "\u001b[1;32m<ipython-input-5-d158fdca1aa5>\u001b[0m in \u001b[0;36m<module>\u001b[1;34m\u001b[0m\n\u001b[1;32m----> 1\u001b[1;33m \u001b[0my_int\u001b[0m \u001b[1;33m=\u001b[0m \u001b[0mmalaya_speech\u001b[0m\u001b[1;33m.\u001b[0m\u001b[0mastype\u001b[0m\u001b[1;33m.\u001b[0m\u001b[0mfloat_to_int\u001b[0m\u001b[1;33m(\u001b[0m\u001b[0mlast_frames\u001b[0m\u001b[1;33m)\u001b[0m\u001b[1;33m\u001b[0m\u001b[1;33m\u001b[0m\u001b[0m\n\u001b[0m\u001b[0;32m      2\u001b[0m \u001b[0mvad\u001b[0m \u001b[1;33m=\u001b[0m \u001b[0mmalaya_speech\u001b[0m\u001b[1;33m.\u001b[0m\u001b[0mvad\u001b[0m\u001b[1;33m.\u001b[0m\u001b[0mwebrtc\u001b[0m\u001b[1;33m(\u001b[0m\u001b[0mminimum_amplitude\u001b[0m\u001b[1;33m=\u001b[0m\u001b[0mint\u001b[0m\u001b[1;33m(\u001b[0m\u001b[0mnp\u001b[0m\u001b[1;33m.\u001b[0m\u001b[0mquantile\u001b[0m\u001b[1;33m(\u001b[0m\u001b[0mnp\u001b[0m\u001b[1;33m.\u001b[0m\u001b[0mabs\u001b[0m\u001b[1;33m(\u001b[0m\u001b[0my_int\u001b[0m\u001b[1;33m)\u001b[0m\u001b[1;33m,\u001b[0m \u001b[1;36m0.2\u001b[0m\u001b[1;33m)\u001b[0m\u001b[1;33m)\u001b[0m\u001b[1;33m)\u001b[0m\u001b[1;33m\u001b[0m\u001b[1;33m\u001b[0m\u001b[0m\n\u001b[0;32m      3\u001b[0m \u001b[0mmalaya_speech\u001b[0m\u001b[1;33m.\u001b[0m\u001b[0mvad\u001b[0m\u001b[1;33m.\u001b[0m\u001b[0mavailable_model\u001b[0m\u001b[1;33m(\u001b[0m\u001b[1;33m)\u001b[0m\u001b[1;33m\u001b[0m\u001b[1;33m\u001b[0m\u001b[0m\n\u001b[0;32m      4\u001b[0m \u001b[0mmodel_factor1\u001b[0m \u001b[1;33m=\u001b[0m \u001b[0mmalaya_speech\u001b[0m\u001b[1;33m.\u001b[0m\u001b[0mvad\u001b[0m\u001b[1;33m.\u001b[0m\u001b[0mdeep_model\u001b[0m\u001b[1;33m(\u001b[0m\u001b[0mmodel\u001b[0m\u001b[1;33m=\u001b[0m\u001b[1;34m'marblenet-factor1'\u001b[0m\u001b[1;33m)\u001b[0m\u001b[1;33m\u001b[0m\u001b[1;33m\u001b[0m\u001b[0m\n\u001b[0;32m      5\u001b[0m \u001b[0mframes_int\u001b[0m \u001b[1;33m=\u001b[0m \u001b[0mlist\u001b[0m\u001b[1;33m(\u001b[0m\u001b[0mmalaya_speech\u001b[0m\u001b[1;33m.\u001b[0m\u001b[0mutils\u001b[0m\u001b[1;33m.\u001b[0m\u001b[0mgenerator\u001b[0m\u001b[1;33m.\u001b[0m\u001b[0mframes\u001b[0m\u001b[1;33m(\u001b[0m\u001b[0my_int\u001b[0m\u001b[1;33m,\u001b[0m \u001b[1;36m30\u001b[0m\u001b[1;33m,\u001b[0m \u001b[0mRATE\u001b[0m\u001b[1;33m)\u001b[0m\u001b[1;33m)\u001b[0m\u001b[1;33m\u001b[0m\u001b[1;33m\u001b[0m\u001b[0m\n",
      "\u001b[1;32m~\\Desktop\\uluc_nemo\\uluc_nemo\\lib\\site-packages\\malaya_speech\\utils\\astype.py\u001b[0m in \u001b[0;36mfloat_to_int\u001b[1;34m(array, type)\u001b[0m\n\u001b[0;32m     77\u001b[0m \u001b[1;33m\u001b[0m\u001b[0m\n\u001b[0;32m     78\u001b[0m     \u001b[1;32mif\u001b[0m \u001b[0marray\u001b[0m\u001b[1;33m.\u001b[0m\u001b[0mdtype\u001b[0m \u001b[1;32mnot\u001b[0m \u001b[1;32min\u001b[0m \u001b[1;33m[\u001b[0m\u001b[0mnp\u001b[0m\u001b[1;33m.\u001b[0m\u001b[0mint16\u001b[0m\u001b[1;33m,\u001b[0m \u001b[0mnp\u001b[0m\u001b[1;33m.\u001b[0m\u001b[0mint32\u001b[0m\u001b[1;33m,\u001b[0m \u001b[0mnp\u001b[0m\u001b[1;33m.\u001b[0m\u001b[0mint64\u001b[0m\u001b[1;33m]\u001b[0m\u001b[1;33m:\u001b[0m\u001b[1;33m\u001b[0m\u001b[1;33m\u001b[0m\u001b[0m\n\u001b[1;32m---> 79\u001b[1;33m         \u001b[1;32mif\u001b[0m \u001b[0mnp\u001b[0m\u001b[1;33m.\u001b[0m\u001b[0mmax\u001b[0m\u001b[1;33m(\u001b[0m\u001b[0mnp\u001b[0m\u001b[1;33m.\u001b[0m\u001b[0mabs\u001b[0m\u001b[1;33m(\u001b[0m\u001b[0marray\u001b[0m\u001b[1;33m)\u001b[0m\u001b[1;33m)\u001b[0m \u001b[1;33m==\u001b[0m \u001b[1;36m0\u001b[0m\u001b[1;33m:\u001b[0m\u001b[1;33m\u001b[0m\u001b[1;33m\u001b[0m\u001b[0m\n\u001b[0m\u001b[0;32m     80\u001b[0m             \u001b[0marray\u001b[0m\u001b[1;33m[\u001b[0m\u001b[1;33m:\u001b[0m\u001b[1;33m]\u001b[0m \u001b[1;33m=\u001b[0m \u001b[1;36m0\u001b[0m\u001b[1;33m\u001b[0m\u001b[1;33m\u001b[0m\u001b[0m\n\u001b[0;32m     81\u001b[0m             \u001b[0marray\u001b[0m \u001b[1;33m=\u001b[0m \u001b[0mtype\u001b[0m\u001b[1;33m(\u001b[0m\u001b[0marray\u001b[0m \u001b[1;33m*\u001b[0m \u001b[0mnp\u001b[0m\u001b[1;33m.\u001b[0m\u001b[0miinfo\u001b[0m\u001b[1;33m(\u001b[0m\u001b[0mtype\u001b[0m\u001b[1;33m)\u001b[0m\u001b[1;33m.\u001b[0m\u001b[0mmax\u001b[0m\u001b[1;33m)\u001b[0m\u001b[1;33m\u001b[0m\u001b[1;33m\u001b[0m\u001b[0m\n",
      "\u001b[1;31mUFuncTypeError\u001b[0m: ufunc 'absolute' did not contain a loop with signature matching types dtype('S960') -> dtype('S960')"
     ]
    }
   ],
   "source": [
    "y_int = malaya_speech.astype.float_to_int(last_frames)\n",
    "vad = malaya_speech.vad.webrtc(minimum_amplitude=int(np.quantile(np.abs(y_int), 0.2)))\n",
    "malaya_speech.vad.available_model()\n",
    "model_factor1 = malaya_speech.vad.deep_model(model='marblenet-factor1')\n",
    "frames_int = list(malaya_speech.utils.generator.frames(y_int, 30, RATE))\n",
    "\n",
    "\n",
    "frames = list(malaya_speech.utils.generator.frames(last_frames, 30, RATE))\n",
    "\n",
    "frames_deep_factor1 = [(frame, model_factor1(frame)) for frame in frames]\n",
    "\n",
    "p = Pipeline()\n",
    "pipeline = (\n",
    "\tp.batching(5)\n",
    "\t\t.foreach_map(model_factor1.predict)\n",
    "\t\t.flatten()\n",
    ")\n",
    "p.visualize()\n",
    "\n",
    "result = p.emit(frames)\n",
    "result.keys()\n",
    "\n",
    "frames_deep_factor1_batch = [(frame, result['flatten'][no]) for no, frame in enumerate(frames)]\n",
    "len(frames_deep_factor1) == len(frames_deep_factor1_batch)\n",
    "\n",
    "malaya_speech.extra.visualization.visualize_vad(y, frames_deep_factor1, RATE)\n"
   ]
  },
  {
   "cell_type": "code",
   "execution_count": 6,
   "id": "0196660f",
   "metadata": {},
   "outputs": [
    {
     "data": {
      "text/plain": [
       "(399701,)"
      ]
     },
     "execution_count": 6,
     "metadata": {},
     "output_type": "execute_result"
    }
   ],
   "source": [
    "y, sr = malaya_speech.load('vad_test_file.wav')\n",
    "\n",
    "y.shape"
   ]
  },
  {
   "cell_type": "code",
   "execution_count": 7,
   "id": "31f7de02",
   "metadata": {},
   "outputs": [
    {
     "ename": "NameError",
     "evalue": "name 'resample' is not defined",
     "output_type": "error",
     "traceback": [
      "\u001b[1;31m---------------------------------------------------------------------------\u001b[0m",
      "\u001b[1;31mNameError\u001b[0m                                 Traceback (most recent call last)",
      "\u001b[1;32m<ipython-input-7-0a460abd1a87>\u001b[0m in \u001b[0;36m<module>\u001b[1;34m\u001b[0m\n\u001b[0;32m     17\u001b[0m \u001b[1;33m\u001b[0m\u001b[0m\n\u001b[0;32m     18\u001b[0m \u001b[0mdata\u001b[0m\u001b[1;33m,\u001b[0m \u001b[0mold_samplerate\u001b[0m \u001b[1;33m=\u001b[0m \u001b[0msf\u001b[0m\u001b[1;33m.\u001b[0m\u001b[0mread\u001b[0m\u001b[1;33m(\u001b[0m\u001b[1;34m'vad_test_file.wav'\u001b[0m\u001b[1;33m)\u001b[0m\u001b[1;33m\u001b[0m\u001b[1;33m\u001b[0m\u001b[0m\n\u001b[1;32m---> 19\u001b[1;33m \u001b[0my\u001b[0m\u001b[1;33m,\u001b[0m \u001b[0msr\u001b[0m \u001b[1;33m=\u001b[0m \u001b[0mread_audio\u001b[0m\u001b[1;33m(\u001b[0m\u001b[0mdata\u001b[0m\u001b[1;33m,\u001b[0m \u001b[0mold_samplerate\u001b[0m\u001b[1;33m,\u001b[0m \u001b[0msr\u001b[0m\u001b[1;33m)\u001b[0m\u001b[1;33m\u001b[0m\u001b[1;33m\u001b[0m\u001b[0m\n\u001b[0m\u001b[0;32m     20\u001b[0m \u001b[1;32mif\u001b[0m \u001b[0mscale\u001b[0m \u001b[1;33m==\u001b[0m \u001b[1;32mTrue\u001b[0m\u001b[1;33m:\u001b[0m\u001b[1;33m\u001b[0m\u001b[1;33m\u001b[0m\u001b[0m\n\u001b[0;32m     21\u001b[0m     \u001b[0my\u001b[0m \u001b[1;33m=\u001b[0m \u001b[0my\u001b[0m \u001b[1;33m/\u001b[0m \u001b[1;33m(\u001b[0m\u001b[0mnp\u001b[0m\u001b[1;33m.\u001b[0m\u001b[0mmax\u001b[0m\u001b[1;33m(\u001b[0m\u001b[0mnp\u001b[0m\u001b[1;33m.\u001b[0m\u001b[0mabs\u001b[0m\u001b[1;33m(\u001b[0m\u001b[0my\u001b[0m\u001b[1;33m)\u001b[0m\u001b[1;33m)\u001b[0m \u001b[1;33m+\u001b[0m \u001b[1;36m1e-9\u001b[0m\u001b[1;33m)\u001b[0m\u001b[1;33m\u001b[0m\u001b[1;33m\u001b[0m\u001b[0m\n",
      "\u001b[1;32m<ipython-input-7-0a460abd1a87>\u001b[0m in \u001b[0;36mread_audio\u001b[1;34m(data, old_samplerate, sample_rate)\u001b[0m\n\u001b[0;32m      8\u001b[0m \u001b[1;33m\u001b[0m\u001b[0m\n\u001b[0;32m      9\u001b[0m     \u001b[1;32mif\u001b[0m \u001b[0mold_samplerate\u001b[0m \u001b[1;33m!=\u001b[0m \u001b[0msample_rate\u001b[0m \u001b[1;32mand\u001b[0m \u001b[0msample_rate\u001b[0m \u001b[1;32mis\u001b[0m \u001b[1;32mnot\u001b[0m \u001b[1;32mNone\u001b[0m\u001b[1;33m:\u001b[0m\u001b[1;33m\u001b[0m\u001b[1;33m\u001b[0m\u001b[0m\n\u001b[1;32m---> 10\u001b[1;33m         \u001b[0mdata\u001b[0m \u001b[1;33m=\u001b[0m \u001b[0mresample\u001b[0m\u001b[1;33m(\u001b[0m\u001b[0mdata\u001b[0m\u001b[1;33m,\u001b[0m \u001b[0mold_samplerate\u001b[0m\u001b[1;33m,\u001b[0m \u001b[0msample_rate\u001b[0m\u001b[1;33m)\u001b[0m\u001b[1;33m\u001b[0m\u001b[1;33m\u001b[0m\u001b[0m\n\u001b[0m\u001b[0;32m     11\u001b[0m     \u001b[1;32melse\u001b[0m\u001b[1;33m:\u001b[0m\u001b[1;33m\u001b[0m\u001b[1;33m\u001b[0m\u001b[0m\n\u001b[0;32m     12\u001b[0m         \u001b[0msample_rate\u001b[0m \u001b[1;33m=\u001b[0m \u001b[0mold_samplerate\u001b[0m\u001b[1;33m\u001b[0m\u001b[1;33m\u001b[0m\u001b[0m\n",
      "\u001b[1;31mNameError\u001b[0m: name 'resample' is not defined"
     ]
    }
   ],
   "source": [
    "import soundfile as sf\n",
    "from scipy.io.wavfile import read\n",
    "from scipy import interpolate\n",
    "\n",
    "def read_audio(data, old_samplerate, sample_rate=22050):\n",
    "    if len(data.shape) == 2:\n",
    "        data = data[:, 0]\n",
    "\n",
    "    if old_samplerate != sample_rate and sample_rate is not None:\n",
    "        data = resample(data, old_samplerate, sample_rate)\n",
    "    else:\n",
    "        sample_rate = old_samplerate\n",
    "\n",
    "    return data, sample_rate\n",
    "\n",
    "scale = True\n",
    "\n",
    "data, old_samplerate = sf.read('vad_test_file.wav')\n",
    "y, sr = read_audio(data, old_samplerate, sr)\n",
    "if scale == True:\n",
    "    y = y / (np.max(np.abs(y)) + 1e-9)"
   ]
  },
  {
   "cell_type": "code",
   "execution_count": 36,
   "id": "0423f960",
   "metadata": {},
   "outputs": [
    {
     "data": {
      "text/plain": [
       "array([ 0.        ,  0.        ,  0.        , ...,  0.0015564 ,\n",
       "       -0.00268555, -0.00015259])"
      ]
     },
     "execution_count": 36,
     "metadata": {},
     "output_type": "execute_result"
    }
   ],
   "source": [
    "y"
   ]
  },
  {
   "cell_type": "code",
   "execution_count": 10,
   "id": "9d95a7b6",
   "metadata": {},
   "outputs": [],
   "source": [
    "y_int = malaya_speech.astype.float_to_int(y)\n",
    "# vad = malaya_speech.vad.webrtc(minimum_amplitude=int(np.quantile(np.abs(y_int), 0.2)))\n",
    "malaya_speech.vad.available_model()\n",
    "model_factor1 = malaya_speech.vad.deep_model(model='marblenet-factor1')\n",
    "frames_int = list(malaya_speech.utils.generator.frames(y_int, 30, RATE))\n",
    "\n",
    "\n",
    "frames = list(malaya_speech.utils.generator.frames(y, 30, RATE))\n",
    "\n",
    "frames_deep_factor1 = [(frame, model_factor1(frame)) for frame in frames]\n"
   ]
  },
  {
   "cell_type": "code",
   "execution_count": 12,
   "id": "40e5414d",
   "metadata": {},
   "outputs": [
    {
     "data": {
      "text/plain": [
       "0.0"
      ]
     },
     "execution_count": 12,
     "metadata": {},
     "output_type": "execute_result"
    }
   ],
   "source": [
    "y[0]"
   ]
  },
  {
   "cell_type": "code",
   "execution_count": null,
   "id": "f515f464",
   "metadata": {},
   "outputs": [],
   "source": []
  }
 ],
 "metadata": {
  "kernelspec": {
   "display_name": "uluc_nemo",
   "language": "python",
   "name": "uluc_nemo"
  },
  "language_info": {
   "codemirror_mode": {
    "name": "ipython",
    "version": 3
   },
   "file_extension": ".py",
   "mimetype": "text/x-python",
   "name": "python",
   "nbconvert_exporter": "python",
   "pygments_lexer": "ipython3",
   "version": "3.7.9"
  }
 },
 "nbformat": 4,
 "nbformat_minor": 5
}
